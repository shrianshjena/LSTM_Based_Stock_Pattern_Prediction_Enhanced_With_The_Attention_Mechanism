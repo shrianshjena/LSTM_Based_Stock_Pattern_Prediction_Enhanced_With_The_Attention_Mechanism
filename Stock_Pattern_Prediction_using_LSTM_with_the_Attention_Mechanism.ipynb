{
  "nbformat": 4,
  "nbformat_minor": 0,
  "metadata": {
    "colab": {
      "provenance": []
    },
    "kernelspec": {
      "name": "python3",
      "display_name": "Python 3"
    },
    "language_info": {
      "name": "python"
    }
  },
  "cells": [
    {
      "cell_type": "markdown",
      "source": [
        "# **LSTM-Based Stock Pattern Prediction Enhanced With The Attention Mechanism**"
      ],
      "metadata": {
        "id": "6h-Iwn5Eq962"
      }
    },
    {
      "cell_type": "code",
      "execution_count": null,
      "metadata": {
        "id": "vDQ4yGzWq4qQ"
      },
      "outputs": [],
      "source": [
        "import pandas as pd\n",
        "import numpy as np\n",
        "import matplotlib.pyplot as plt\n",
        "%matplotlib inline\n",
        "import yfinance as yf\n",
        "from sklearn.preprocessing import MinMaxScaler\n",
        "import tensorflow as tf\n",
        "from keras.models import Sequential\n",
        "from keras.layers import LSTM, Dense, Dropout\n",
        "import warnings\n",
        "warnings.filterwarnings('ignore')"
      ]
    },
    {
      "cell_type": "markdown",
      "source": [
        "### **Fetching Data**"
      ],
      "metadata": {
        "id": "OvpdzL5wrYY4"
      }
    },
    {
      "cell_type": "code",
      "source": [
        "# Fetching AAPL data from Yahoo Finance\n",
        "aapl_data = yf.download('AAPL', start='2020-01-01', end='2024-01-01')\n",
        "\n",
        "print(aapl_data.head())"
      ],
      "metadata": {
        "colab": {
          "base_uri": "https://localhost:8080/"
        },
        "id": "znNiVXcprZmM",
        "outputId": "4338d709-e725-41ae-c61c-ade10aa54490"
      },
      "execution_count": null,
      "outputs": [
        {
          "output_type": "stream",
          "name": "stderr",
          "text": [
            "\r[*********************100%%**********************]  1 of 1 completed"
          ]
        },
        {
          "output_type": "stream",
          "name": "stdout",
          "text": [
            "                 Open       High        Low      Close  Adj Close     Volume\n",
            "Date                                                                        \n",
            "2020-01-02  74.059998  75.150002  73.797501  75.087502  72.960472  135480400\n",
            "2020-01-03  74.287498  75.144997  74.125000  74.357498  72.251144  146322800\n",
            "2020-01-06  73.447502  74.989998  73.187500  74.949997  72.826851  118387200\n",
            "2020-01-07  74.959999  75.224998  74.370003  74.597504  72.484344  108872000\n",
            "2020-01-08  74.290001  76.110001  74.290001  75.797501  73.650330  132079200\n"
          ]
        },
        {
          "output_type": "stream",
          "name": "stderr",
          "text": [
            "\n"
          ]
        }
      ]
    },
    {
      "cell_type": "markdown",
      "source": [
        "### **Data Inspection and Cleaning**"
      ],
      "metadata": {
        "id": "3hXKDz7Arrq_"
      }
    },
    {
      "cell_type": "code",
      "source": [
        "# Check for missing values\n",
        "missing_values = aapl_data.isnull().sum()\n",
        "print(\"Missing values in each column:\\n\", missing_values)\n",
        "\n",
        "# Fill missing values using forward fill\n",
        "aapl_data.fillna(method='ffill', inplace=True)\n",
        "\n",
        "missing_values_after_fill = aapl_data.isnull().sum()\n",
        "print(\"Missing values after filling:\\n\", missing_values_after_fill)"
      ],
      "metadata": {
        "colab": {
          "base_uri": "https://localhost:8080/"
        },
        "id": "By3bTRGorsJl",
        "outputId": "6759d307-d92b-4e4d-d797-8e1b9d15cf80"
      },
      "execution_count": null,
      "outputs": [
        {
          "output_type": "stream",
          "name": "stdout",
          "text": [
            "Missing values in each column:\n",
            " Open         0\n",
            "High         0\n",
            "Low          0\n",
            "Close        0\n",
            "Adj Close    0\n",
            "Volume       0\n",
            "dtype: int64\n",
            "Missing values after filling:\n",
            " Open         0\n",
            "High         0\n",
            "Low          0\n",
            "Close        0\n",
            "Adj Close    0\n",
            "Volume       0\n",
            "dtype: int64\n"
          ]
        }
      ]
    },
    {
      "cell_type": "markdown",
      "source": [
        "### **Data Scaling**"
      ],
      "metadata": {
        "id": "6bABxYJyrxTO"
      }
    },
    {
      "cell_type": "code",
      "source": [
        "# Initialize the MinMaxScaler with feature range between 0 and 1\n",
        "scaler = MinMaxScaler(feature_range=(0, 1))\n",
        "\n",
        "# Scale the 'Close' column of the AAPL stock data\n",
        "aapl_data_scaled = scaler.fit_transform(aapl_data['Close'].values.reshape(-1, 1))\n",
        "\n",
        "print(\"First few rows of scaled 'Close' data:\\n\", aapl_data_scaled[:5])"
      ],
      "metadata": {
        "colab": {
          "base_uri": "https://localhost:8080/"
        },
        "id": "SNTKAIlcrxwk",
        "outputId": "d4d77721-176f-4cd9-eb15-bf30048f1dda"
      },
      "execution_count": null,
      "outputs": [
        {
          "output_type": "stream",
          "name": "stdout",
          "text": [
            "First few rows of scaled 'Close' data:\n",
            " [[0.13375114]\n",
            " [0.1286109 ]\n",
            " [0.13278292]\n",
            " [0.13030088]\n",
            " [0.13875052]]\n"
          ]
        }
      ]
    },
    {
      "cell_type": "markdown",
      "source": [
        "### **Creating Sequences for LSTM**"
      ],
      "metadata": {
        "id": "g3yEajZcsBoM"
      }
    },
    {
      "cell_type": "code",
      "source": [
        "# Initialize empty lists to hold input sequences (X) and corresponding outputs (y)\n",
        "X = []\n",
        "y = []\n",
        "\n",
        "# Create sequences of 60 time steps from the scaled closing prices\n",
        "for i in range(60, len(aapl_data_scaled)):\n",
        "    # Append the sequence of 60 previous values to X\n",
        "    X.append(aapl_data_scaled[i-60:i, 0])\n",
        "    # Append the next value to y\n",
        "    y.append(aapl_data_scaled[i, 0])"
      ],
      "metadata": {
        "id": "evopCkmQsCJ6"
      },
      "execution_count": null,
      "outputs": []
    },
    {
      "cell_type": "markdown",
      "source": [
        "### **Splitting the Data into Training and Testing Sets**"
      ],
      "metadata": {
        "id": "uR7QGRDRv9Q-"
      }
    },
    {
      "cell_type": "code",
      "source": [
        "# Defining the size of the training set (80% of the data)\n",
        "train_size = int(len(X) * 0.8)\n",
        "# The size of the test set is the remaining 20%\n",
        "test_size = len(X) - train_size\n",
        "\n",
        "# Splitting the data into training and testing sets\n",
        "X_train, X_test = X[:train_size], X[train_size:]\n",
        "y_train, y_test = y[:train_size], y[train_size:]\n",
        "\n",
        "print(f\"Training set size: {len(X_train)}, Test set size: {len(X_test)}\")"
      ],
      "metadata": {
        "colab": {
          "base_uri": "https://localhost:8080/"
        },
        "id": "PV1sgsEUv9xG",
        "outputId": "c662d91b-0bdc-49ac-c4dc-8fa980e98c33"
      },
      "execution_count": null,
      "outputs": [
        {
          "output_type": "stream",
          "name": "stdout",
          "text": [
            "Training set size: 756, Test set size: 190\n"
          ]
        }
      ]
    },
    {
      "cell_type": "markdown",
      "source": [
        "### **Reshaping Data for LSTM Input**"
      ],
      "metadata": {
        "id": "ErF0t6yNwST3"
      }
    },
    {
      "cell_type": "code",
      "source": [
        "X_train, y_train = np.array(X_train), np.array(y_train)\n",
        "\n",
        "# Reshape the data to be suitable for LSTM input\n",
        "# LSTM expects input in the form (number of samples, number of time steps, number of features)\n",
        "X_train = np.reshape(X_train, (X_train.shape[0], X_train.shape[1], 1))\n",
        "\n",
        "print(f\"Reshaped X_train shape: {X_train.shape}\")"
      ],
      "metadata": {
        "colab": {
          "base_uri": "https://localhost:8080/"
        },
        "id": "sK3g6SmMwRuf",
        "outputId": "489bea1b-0030-4da4-a54b-efebafc4417a"
      },
      "execution_count": null,
      "outputs": [
        {
          "output_type": "stream",
          "name": "stdout",
          "text": [
            "Reshaped X_train shape: (756, 60, 1)\n"
          ]
        }
      ]
    },
    {
      "cell_type": "markdown",
      "source": [
        "## **Constructing the LSTM Model with Attention Mechanism**"
      ],
      "metadata": {
        "id": "SdQ6t1u5wgkM"
      }
    },
    {
      "cell_type": "code",
      "source": [
        "from keras.models import Sequential\n",
        "from keras.layers import LSTM, Dense, Dropout, AdditiveAttention, Permute, Reshape, Multiply, BatchNormalization, Flatten"
      ],
      "metadata": {
        "id": "PSMlG-ukwhF5"
      },
      "execution_count": null,
      "outputs": []
    },
    {
      "cell_type": "markdown",
      "source": [
        "### **Adding LSTM Layers and the Attention Mechanism**"
      ],
      "metadata": {
        "id": "cbQY4Bh3wmF7"
      }
    },
    {
      "cell_type": "code",
      "source": [
        "model = Sequential()\n",
        "\n",
        "# Adding the first LSTM layer with return_sequences=True to stack more layers later\n",
        "model.add(LSTM(units=50, return_sequences=True, input_shape=(X_train.shape[1], 1)))\n",
        "# Adding the second LSTM layer with return_sequences=True for attention mechanism\n",
        "model.add(LSTM(units=50, return_sequences=True))\n",
        "\n",
        "# Adding self-attention mechanism\n",
        "# Initializing attention layer\n",
        "attention = AdditiveAttention(name='attention_weight')\n",
        "\n",
        "# Permute the dimensions of LSTM output for compatibility with attention layer\n",
        "model.add(Permute((2, 1)))\n",
        "\n",
        "# Reshape the output to match the required input shape for the attention layer\n",
        "model.add(Reshape((-1, X_train.shape[1])))\n",
        "\n",
        "# Applying the attention mechanism\n",
        "attention_result = attention([model.output, model.output])\n",
        "\n",
        "# Multiply the LSTM output with the attention result to emphasize important features\n",
        "multiply_layer = Multiply()([model.output, attention_result])\n",
        "\n",
        "# Return to original shape after attention mechanism\n",
        "model.add(Permute((2, 1)))\n",
        "model.add(Reshape((-1, 50)))\n",
        "\n",
        "# Flatten the output before the final Dense layer\n",
        "model.add(Flatten())\n",
        "\n",
        "# Add the final Dense layer with one output unit\n",
        "model.add(Dense(1))\n",
        "\n",
        "# model.compile(optimizer='adam', loss='mean_squared_error')\n",
        "\n",
        "# history = model.fit(X_train, y_train, epochs=100, batch_size=25, validation_split=0.2)"
      ],
      "metadata": {
        "id": "5TDJQ0lvwoMX"
      },
      "execution_count": null,
      "outputs": []
    },
    {
      "cell_type": "markdown",
      "source": [
        "### **Model Optimization**"
      ],
      "metadata": {
        "id": "wWoG2d9J4QRs"
      }
    },
    {
      "cell_type": "code",
      "source": [
        "# Adding Dropout and Batch Normalization layers for regularization\n",
        "model.add(Dropout(0.2))  # Dropout to prevent overfitting\n",
        "model.add(BatchNormalization())  # Batch normalization to stabilize and accelerate training"
      ],
      "metadata": {
        "id": "31L0DY9j4Pgx"
      },
      "execution_count": null,
      "outputs": []
    },
    {
      "cell_type": "markdown",
      "source": [
        "### **Compiling the Model**"
      ],
      "metadata": {
        "id": "mIvqlwmj4mlG"
      }
    },
    {
      "cell_type": "code",
      "source": [
        "# Compile the model with Mean Squared Error loss and Adam optimizer\n",
        "model.compile(optimizer='adam', loss='mean_squared_error')"
      ],
      "metadata": {
        "id": "_alUPXli4nFn"
      },
      "execution_count": null,
      "outputs": []
    },
    {
      "cell_type": "markdown",
      "source": [
        "### **Model Summary**"
      ],
      "metadata": {
        "id": "tqEcprEL4vil"
      }
    },
    {
      "cell_type": "code",
      "source": [
        "model.summary()"
      ],
      "metadata": {
        "colab": {
          "base_uri": "https://localhost:8080/"
        },
        "id": "4XMKKwTu4uR7",
        "outputId": "885ac837-bb79-43f0-bf34-f8084604198b"
      },
      "execution_count": null,
      "outputs": [
        {
          "output_type": "stream",
          "name": "stdout",
          "text": [
            "Model: \"sequential\"\n",
            "_________________________________________________________________\n",
            " Layer (type)                Output Shape              Param #   \n",
            "=================================================================\n",
            " lstm (LSTM)                 (None, 60, 50)            10400     \n",
            "                                                                 \n",
            " lstm_1 (LSTM)               (None, 60, 50)            20200     \n",
            "                                                                 \n",
            " permute (Permute)           (None, 50, 60)            0         \n",
            "                                                                 \n",
            " reshape (Reshape)           (None, 50, 60)            0         \n",
            "                                                                 \n",
            " permute_1 (Permute)         (None, 60, 50)            0         \n",
            "                                                                 \n",
            " reshape_1 (Reshape)         (None, 60, 50)            0         \n",
            "                                                                 \n",
            " flatten (Flatten)           (None, 3000)              0         \n",
            "                                                                 \n",
            " dense (Dense)               (None, 1)                 3001      \n",
            "                                                                 \n",
            " dropout (Dropout)           (None, 1)                 0         \n",
            "                                                                 \n",
            " batch_normalization (Batch  (None, 1)                 4         \n",
            " Normalization)                                                  \n",
            "                                                                 \n",
            "=================================================================\n",
            "Total params: 33605 (131.27 KB)\n",
            "Trainable params: 33603 (131.26 KB)\n",
            "Non-trainable params: 2 (8.00 Byte)\n",
            "_________________________________________________________________\n"
          ]
        }
      ]
    },
    {
      "cell_type": "markdown",
      "source": [
        "### **Training the Model**"
      ],
      "metadata": {
        "id": "sm3cqKMI8DS6"
      }
    },
    {
      "cell_type": "code",
      "source": [
        "# Train the model on the training data with a validation split of 20%\n",
        "history = model.fit(X_train, y_train, epochs=100, batch_size=25, validation_split=0.2)"
      ],
      "metadata": {
        "colab": {
          "base_uri": "https://localhost:8080/"
        },
        "id": "M3NYO_z97k28",
        "outputId": "38179df0-0f76-4517-9768-6aaf6f3ec983"
      },
      "execution_count": null,
      "outputs": [
        {
          "output_type": "stream",
          "name": "stdout",
          "text": [
            "Epoch 1/100\n",
            "25/25 [==============================] - 12s 99ms/step - loss: 0.7285 - val_loss: 0.3526\n",
            "Epoch 2/100\n",
            "25/25 [==============================] - 1s 59ms/step - loss: 0.3054 - val_loss: 0.3509\n",
            "Epoch 3/100\n",
            "25/25 [==============================] - 1s 59ms/step - loss: 0.2538 - val_loss: 0.3387\n",
            "Epoch 4/100\n",
            "25/25 [==============================] - 1s 59ms/step - loss: 0.2273 - val_loss: 0.3086\n",
            "Epoch 5/100\n",
            "25/25 [==============================] - 2s 81ms/step - loss: 0.2035 - val_loss: 0.2795\n",
            "Epoch 6/100\n",
            "25/25 [==============================] - 3s 101ms/step - loss: 0.1846 - val_loss: 0.2571\n",
            "Epoch 7/100\n",
            "25/25 [==============================] - 1s 57ms/step - loss: 0.1686 - val_loss: 0.2261\n",
            "Epoch 8/100\n",
            "25/25 [==============================] - 1s 58ms/step - loss: 0.1501 - val_loss: 0.2020\n",
            "Epoch 9/100\n",
            "25/25 [==============================] - 1s 58ms/step - loss: 0.1377 - val_loss: 0.2018\n",
            "Epoch 10/100\n",
            "25/25 [==============================] - 1s 60ms/step - loss: 0.1250 - val_loss: 0.1822\n",
            "Epoch 11/100\n",
            "25/25 [==============================] - 1s 57ms/step - loss: 0.1094 - val_loss: 0.1590\n",
            "Epoch 12/100\n",
            "25/25 [==============================] - 1s 59ms/step - loss: 0.0972 - val_loss: 0.1577\n",
            "Epoch 13/100\n",
            "25/25 [==============================] - 2s 71ms/step - loss: 0.0883 - val_loss: 0.1256\n",
            "Epoch 14/100\n",
            "25/25 [==============================] - 2s 93ms/step - loss: 0.0759 - val_loss: 0.1120\n",
            "Epoch 15/100\n",
            "25/25 [==============================] - 2s 60ms/step - loss: 0.0702 - val_loss: 0.1015\n",
            "Epoch 16/100\n",
            "25/25 [==============================] - 1s 59ms/step - loss: 0.0633 - val_loss: 0.0811\n",
            "Epoch 17/100\n",
            "25/25 [==============================] - 1s 60ms/step - loss: 0.0576 - val_loss: 0.0762\n",
            "Epoch 18/100\n",
            "25/25 [==============================] - 1s 58ms/step - loss: 0.0489 - val_loss: 0.0902\n",
            "Epoch 19/100\n",
            "25/25 [==============================] - 1s 58ms/step - loss: 0.0505 - val_loss: 0.0546\n",
            "Epoch 20/100\n",
            "25/25 [==============================] - 1s 58ms/step - loss: 0.0380 - val_loss: 0.0549\n",
            "Epoch 21/100\n",
            "25/25 [==============================] - 2s 61ms/step - loss: 0.0348 - val_loss: 0.0545\n",
            "Epoch 22/100\n",
            "25/25 [==============================] - 2s 99ms/step - loss: 0.0324 - val_loss: 0.0348\n",
            "Epoch 23/100\n",
            "25/25 [==============================] - 2s 69ms/step - loss: 0.0298 - val_loss: 0.0331\n",
            "Epoch 24/100\n",
            "25/25 [==============================] - 2s 60ms/step - loss: 0.0265 - val_loss: 0.0198\n",
            "Epoch 25/100\n",
            "25/25 [==============================] - 1s 58ms/step - loss: 0.0228 - val_loss: 0.0248\n",
            "Epoch 26/100\n",
            "25/25 [==============================] - 2s 61ms/step - loss: 0.0220 - val_loss: 0.0258\n",
            "Epoch 27/100\n",
            "25/25 [==============================] - 1s 60ms/step - loss: 0.0209 - val_loss: 0.0201\n",
            "Epoch 28/100\n",
            "25/25 [==============================] - 1s 60ms/step - loss: 0.0190 - val_loss: 0.0098\n",
            "Epoch 29/100\n",
            "25/25 [==============================] - 1s 58ms/step - loss: 0.0157 - val_loss: 0.0115\n",
            "Epoch 30/100\n",
            "25/25 [==============================] - 3s 102ms/step - loss: 0.0171 - val_loss: 0.0044\n",
            "Epoch 31/100\n",
            "25/25 [==============================] - 2s 74ms/step - loss: 0.0152 - val_loss: 0.0152\n",
            "Epoch 32/100\n",
            "25/25 [==============================] - 1s 59ms/step - loss: 0.0136 - val_loss: 0.0041\n",
            "Epoch 33/100\n",
            "25/25 [==============================] - 2s 60ms/step - loss: 0.0148 - val_loss: 0.0114\n",
            "Epoch 34/100\n",
            "25/25 [==============================] - 1s 58ms/step - loss: 0.0143 - val_loss: 0.0023\n",
            "Epoch 35/100\n",
            "25/25 [==============================] - 1s 59ms/step - loss: 0.0130 - val_loss: 0.0102\n",
            "Epoch 36/100\n",
            "25/25 [==============================] - 1s 59ms/step - loss: 0.0104 - val_loss: 0.0087\n",
            "Epoch 37/100\n",
            "25/25 [==============================] - 1s 60ms/step - loss: 0.0130 - val_loss: 0.0139\n",
            "Epoch 38/100\n",
            "25/25 [==============================] - 2s 91ms/step - loss: 0.0134 - val_loss: 0.0084\n",
            "Epoch 39/100\n",
            "25/25 [==============================] - 2s 85ms/step - loss: 0.0100 - val_loss: 0.0098\n",
            "Epoch 40/100\n",
            "25/25 [==============================] - 2s 61ms/step - loss: 0.0141 - val_loss: 0.0016\n",
            "Epoch 41/100\n",
            "25/25 [==============================] - 1s 60ms/step - loss: 0.0095 - val_loss: 0.0018\n",
            "Epoch 42/100\n",
            "25/25 [==============================] - 2s 61ms/step - loss: 0.0109 - val_loss: 0.0083\n",
            "Epoch 43/100\n",
            "25/25 [==============================] - 2s 62ms/step - loss: 0.0117 - val_loss: 0.0012\n",
            "Epoch 44/100\n",
            "25/25 [==============================] - 2s 61ms/step - loss: 0.0096 - val_loss: 0.0083\n",
            "Epoch 45/100\n",
            "25/25 [==============================] - 2s 61ms/step - loss: 0.0095 - val_loss: 0.0033\n",
            "Epoch 46/100\n",
            "25/25 [==============================] - 2s 87ms/step - loss: 0.0109 - val_loss: 0.0106\n",
            "Epoch 47/100\n",
            "25/25 [==============================] - 2s 89ms/step - loss: 0.0126 - val_loss: 0.0014\n",
            "Epoch 48/100\n",
            "25/25 [==============================] - 2s 61ms/step - loss: 0.0091 - val_loss: 0.0162\n",
            "Epoch 49/100\n",
            "25/25 [==============================] - 2s 61ms/step - loss: 0.0103 - val_loss: 0.0052\n",
            "Epoch 50/100\n",
            "25/25 [==============================] - 1s 59ms/step - loss: 0.0087 - val_loss: 0.0027\n",
            "Epoch 51/100\n",
            "25/25 [==============================] - 2s 61ms/step - loss: 0.0084 - val_loss: 0.0015\n",
            "Epoch 52/100\n",
            "25/25 [==============================] - 1s 58ms/step - loss: 0.0086 - val_loss: 0.0027\n",
            "Epoch 53/100\n",
            "25/25 [==============================] - 2s 61ms/step - loss: 0.0096 - val_loss: 0.0010\n",
            "Epoch 54/100\n",
            "25/25 [==============================] - 2s 86ms/step - loss: 0.0119 - val_loss: 0.0127\n",
            "Epoch 55/100\n",
            "25/25 [==============================] - 2s 94ms/step - loss: 0.0104 - val_loss: 0.0010\n",
            "Epoch 56/100\n",
            "25/25 [==============================] - 1s 58ms/step - loss: 0.0093 - val_loss: 0.0011\n",
            "Epoch 57/100\n",
            "25/25 [==============================] - 2s 70ms/step - loss: 0.0117 - val_loss: 0.0027\n",
            "Epoch 58/100\n",
            "25/25 [==============================] - 1s 59ms/step - loss: 0.0098 - val_loss: 0.0014\n",
            "Epoch 59/100\n",
            "25/25 [==============================] - 1s 58ms/step - loss: 0.0082 - val_loss: 0.0107\n",
            "Epoch 60/100\n",
            "25/25 [==============================] - 2s 60ms/step - loss: 0.0121 - val_loss: 0.0034\n",
            "Epoch 61/100\n",
            "25/25 [==============================] - 1s 59ms/step - loss: 0.0119 - val_loss: 0.0019\n",
            "Epoch 62/100\n",
            "25/25 [==============================] - 2s 74ms/step - loss: 0.0115 - val_loss: 0.0088\n",
            "Epoch 63/100\n",
            "25/25 [==============================] - 3s 126ms/step - loss: 0.0123 - val_loss: 0.0208\n",
            "Epoch 64/100\n",
            "25/25 [==============================] - 2s 61ms/step - loss: 0.0121 - val_loss: 0.0065\n",
            "Epoch 65/100\n",
            "25/25 [==============================] - 1s 60ms/step - loss: 0.0102 - val_loss: 0.0018\n",
            "Epoch 66/100\n",
            "25/25 [==============================] - 2s 64ms/step - loss: 0.0114 - val_loss: 9.4767e-04\n",
            "Epoch 67/100\n",
            "25/25 [==============================] - 1s 59ms/step - loss: 0.0089 - val_loss: 9.3545e-04\n",
            "Epoch 68/100\n",
            "25/25 [==============================] - 1s 60ms/step - loss: 0.0101 - val_loss: 0.0021\n",
            "Epoch 69/100\n",
            "25/25 [==============================] - 1s 59ms/step - loss: 0.0110 - val_loss: 0.0051\n",
            "Epoch 70/100\n",
            "25/25 [==============================] - 2s 80ms/step - loss: 0.0106 - val_loss: 0.0013\n",
            "Epoch 71/100\n",
            "25/25 [==============================] - 2s 91ms/step - loss: 0.0105 - val_loss: 0.0059\n",
            "Epoch 72/100\n",
            "25/25 [==============================] - 1s 60ms/step - loss: 0.0120 - val_loss: 0.0014\n",
            "Epoch 73/100\n",
            "25/25 [==============================] - 1s 57ms/step - loss: 0.0117 - val_loss: 0.0038\n",
            "Epoch 74/100\n",
            "25/25 [==============================] - 1s 60ms/step - loss: 0.0118 - val_loss: 0.0072\n",
            "Epoch 75/100\n",
            "25/25 [==============================] - 1s 59ms/step - loss: 0.0105 - val_loss: 0.0018\n",
            "Epoch 76/100\n",
            "25/25 [==============================] - 2s 60ms/step - loss: 0.0108 - val_loss: 0.0014\n",
            "Epoch 77/100\n",
            "25/25 [==============================] - 2s 61ms/step - loss: 0.0131 - val_loss: 0.0021\n",
            "Epoch 78/100\n",
            "25/25 [==============================] - 2s 78ms/step - loss: 0.0111 - val_loss: 0.0012\n",
            "Epoch 79/100\n",
            "25/25 [==============================] - 2s 95ms/step - loss: 0.0102 - val_loss: 0.0034\n",
            "Epoch 80/100\n",
            "25/25 [==============================] - 1s 58ms/step - loss: 0.0098 - val_loss: 0.0011\n",
            "Epoch 81/100\n",
            "25/25 [==============================] - 1s 59ms/step - loss: 0.0105 - val_loss: 0.0040\n",
            "Epoch 82/100\n",
            "25/25 [==============================] - 1s 58ms/step - loss: 0.0092 - val_loss: 0.0106\n",
            "Epoch 83/100\n",
            "25/25 [==============================] - 1s 60ms/step - loss: 0.0117 - val_loss: 0.0014\n",
            "Epoch 84/100\n",
            "25/25 [==============================] - 2s 60ms/step - loss: 0.0098 - val_loss: 0.0017\n",
            "Epoch 85/100\n",
            "25/25 [==============================] - 1s 60ms/step - loss: 0.0136 - val_loss: 0.0033\n",
            "Epoch 86/100\n",
            "25/25 [==============================] - 2s 71ms/step - loss: 0.0111 - val_loss: 0.0132\n",
            "Epoch 87/100\n",
            "25/25 [==============================] - 3s 103ms/step - loss: 0.0108 - val_loss: 9.6477e-04\n",
            "Epoch 88/100\n",
            "25/25 [==============================] - 2s 62ms/step - loss: 0.0103 - val_loss: 9.1225e-04\n",
            "Epoch 89/100\n",
            "25/25 [==============================] - 2s 61ms/step - loss: 0.0078 - val_loss: 9.1912e-04\n",
            "Epoch 90/100\n",
            "25/25 [==============================] - 1s 59ms/step - loss: 0.0125 - val_loss: 0.0011\n",
            "Epoch 91/100\n",
            "25/25 [==============================] - 2s 60ms/step - loss: 0.0098 - val_loss: 0.0022\n",
            "Epoch 92/100\n",
            "25/25 [==============================] - 1s 59ms/step - loss: 0.0075 - val_loss: 0.0011\n",
            "Epoch 93/100\n",
            "25/25 [==============================] - 1s 60ms/step - loss: 0.0116 - val_loss: 0.0063\n",
            "Epoch 94/100\n",
            "25/25 [==============================] - 2s 66ms/step - loss: 0.0129 - val_loss: 0.0011\n",
            "Epoch 95/100\n",
            "25/25 [==============================] - 2s 93ms/step - loss: 0.0118 - val_loss: 0.0011\n",
            "Epoch 96/100\n",
            "25/25 [==============================] - 2s 79ms/step - loss: 0.0095 - val_loss: 0.0019\n",
            "Epoch 97/100\n",
            "25/25 [==============================] - 1s 59ms/step - loss: 0.0087 - val_loss: 0.0014\n",
            "Epoch 98/100\n",
            "25/25 [==============================] - 1s 58ms/step - loss: 0.0101 - val_loss: 0.0014\n",
            "Epoch 99/100\n",
            "25/25 [==============================] - 1s 59ms/step - loss: 0.0087 - val_loss: 9.0227e-04\n",
            "Epoch 100/100\n",
            "25/25 [==============================] - 2s 60ms/step - loss: 0.0115 - val_loss: 8.3273e-04\n"
          ]
        }
      ]
    },
    {
      "cell_type": "markdown",
      "source": [
        "### **Adding Early Stopping Callback**"
      ],
      "metadata": {
        "id": "TiksHA9K8zqa"
      }
    },
    {
      "cell_type": "code",
      "source": [
        "from keras.callbacks import EarlyStopping\n",
        "\n",
        "# Define the EarlyStopping callback\n",
        "# Stop training when the validation loss does not improve for 10 consecutive epochs\n",
        "early_stopping = EarlyStopping(monitor='val_loss', patience=10, restore_best_weights=True)\n",
        "\n",
        "history = model.fit(X_train, y_train, epochs=100, batch_size=25, validation_split=0.2, callbacks=[early_stopping])\n",
        "\n",
        "print(f\"Training stopped after {len(history.epoch)} epochs\")"
      ],
      "metadata": {
        "colab": {
          "base_uri": "https://localhost:8080/"
        },
        "id": "LxIXjKc58Z9Y",
        "outputId": "1563b0e3-9ff2-4c7d-a365-57c46397aff9"
      },
      "execution_count": null,
      "outputs": [
        {
          "output_type": "stream",
          "name": "stdout",
          "text": [
            "Epoch 1/100\n",
            "25/25 [==============================] - 2s 61ms/step - loss: 0.0099 - val_loss: 0.0013\n",
            "Epoch 2/100\n",
            "25/25 [==============================] - 1s 59ms/step - loss: 0.0115 - val_loss: 0.0014\n",
            "Epoch 3/100\n",
            "25/25 [==============================] - 1s 59ms/step - loss: 0.0103 - val_loss: 0.0039\n",
            "Epoch 4/100\n",
            "25/25 [==============================] - 2s 91ms/step - loss: 0.0114 - val_loss: 0.0048\n",
            "Epoch 5/100\n",
            "25/25 [==============================] - 2s 75ms/step - loss: 0.0110 - val_loss: 0.0052\n",
            "Epoch 6/100\n",
            "25/25 [==============================] - 1s 59ms/step - loss: 0.0099 - val_loss: 0.0022\n",
            "Epoch 7/100\n",
            "25/25 [==============================] - 1s 58ms/step - loss: 0.0103 - val_loss: 8.7064e-04\n",
            "Epoch 8/100\n",
            "25/25 [==============================] - 1s 59ms/step - loss: 0.0083 - val_loss: 0.0020\n",
            "Epoch 9/100\n",
            "25/25 [==============================] - 1s 58ms/step - loss: 0.0110 - val_loss: 0.0031\n",
            "Epoch 10/100\n",
            "25/25 [==============================] - 1s 59ms/step - loss: 0.0082 - val_loss: 0.0013\n",
            "Epoch 11/100\n",
            "25/25 [==============================] - 1s 57ms/step - loss: 0.0090 - val_loss: 0.0029\n",
            "Epoch 12/100\n",
            "25/25 [==============================] - 2s 83ms/step - loss: 0.0096 - val_loss: 0.0124\n",
            "Epoch 13/100\n",
            "25/25 [==============================] - 2s 90ms/step - loss: 0.0118 - val_loss: 0.0387\n",
            "Epoch 14/100\n",
            "25/25 [==============================] - 1s 59ms/step - loss: 0.0100 - val_loss: 0.0112\n",
            "Epoch 15/100\n",
            "25/25 [==============================] - 1s 56ms/step - loss: 0.0114 - val_loss: 0.0118\n",
            "Epoch 16/100\n",
            "25/25 [==============================] - 1s 57ms/step - loss: 0.0112 - val_loss: 0.0018\n",
            "Epoch 17/100\n",
            "25/25 [==============================] - 1s 58ms/step - loss: 0.0104 - val_loss: 8.7056e-04\n",
            "Epoch 18/100\n",
            "25/25 [==============================] - 1s 56ms/step - loss: 0.0100 - val_loss: 9.0111e-04\n",
            "Epoch 19/100\n",
            "25/25 [==============================] - 1s 56ms/step - loss: 0.0101 - val_loss: 9.8888e-04\n",
            "Epoch 20/100\n",
            "25/25 [==============================] - 2s 64ms/step - loss: 0.0099 - val_loss: 0.0025\n",
            "Epoch 21/100\n",
            "25/25 [==============================] - 2s 90ms/step - loss: 0.0100 - val_loss: 0.0088\n",
            "Epoch 22/100\n",
            "25/25 [==============================] - 2s 76ms/step - loss: 0.0095 - val_loss: 0.0067\n",
            "Epoch 23/100\n",
            "25/25 [==============================] - 1s 58ms/step - loss: 0.0104 - val_loss: 0.0037\n",
            "Epoch 24/100\n",
            "25/25 [==============================] - 1s 60ms/step - loss: 0.0080 - val_loss: 9.5037e-04\n",
            "Epoch 25/100\n",
            "25/25 [==============================] - 1s 58ms/step - loss: 0.0085 - val_loss: 8.4550e-04\n",
            "Epoch 26/100\n",
            "25/25 [==============================] - 1s 60ms/step - loss: 0.0082 - val_loss: 9.1860e-04\n",
            "Epoch 27/100\n",
            "25/25 [==============================] - 1s 57ms/step - loss: 0.0112 - val_loss: 8.6468e-04\n",
            "Epoch 28/100\n",
            "25/25 [==============================] - 1s 59ms/step - loss: 0.0085 - val_loss: 0.0015\n",
            "Epoch 29/100\n",
            "25/25 [==============================] - 2s 87ms/step - loss: 0.0096 - val_loss: 0.0035\n",
            "Epoch 30/100\n",
            "25/25 [==============================] - 2s 98ms/step - loss: 0.0110 - val_loss: 0.0017\n",
            "Epoch 31/100\n",
            "25/25 [==============================] - 1s 57ms/step - loss: 0.0102 - val_loss: 0.0023\n",
            "Epoch 32/100\n",
            "25/25 [==============================] - 1s 59ms/step - loss: 0.0106 - val_loss: 0.0044\n",
            "Epoch 33/100\n",
            "25/25 [==============================] - 1s 59ms/step - loss: 0.0119 - val_loss: 0.0022\n",
            "Epoch 34/100\n",
            "25/25 [==============================] - 1s 58ms/step - loss: 0.0104 - val_loss: 0.0048\n",
            "Epoch 35/100\n",
            "25/25 [==============================] - 1s 58ms/step - loss: 0.0114 - val_loss: 0.0022\n",
            "Training stopped after 35 epochs\n"
          ]
        }
      ]
    },
    {
      "cell_type": "markdown",
      "source": [
        "*   The model is trained for 100 epochs with a batch size of 25\n",
        "*   20% of the training data is used for validation to monitor the model's performance\n",
        "*   Early stopping helps to prevent overfitting by stopping training early when the model stops improving"
      ],
      "metadata": {
        "id": "gpG3lb1D-PyB"
      }
    },
    {
      "cell_type": "markdown",
      "source": [
        "### **Adding Additional Callbacks**"
      ],
      "metadata": {
        "id": "g0Gg9vuQ9a4b"
      }
    },
    {
      "cell_type": "code",
      "source": [
        "from keras.callbacks import ModelCheckpoint, ReduceLROnPlateau, TensorBoard, CSVLogger\n",
        "\n",
        "# Define the ModelCheckpoint callback\n",
        "# Save the model with the best validation loss to 'best_model.h5'\n",
        "model_checkpoint = ModelCheckpoint('best_model.h5', save_best_only=True, monitor='val_loss')\n",
        "\n",
        "# Define the ReduceLROnPlateau callback\n",
        "# Reduce the learning rate by a factor of 0.1 if the validation loss doesn't improve for 5 consecutive epochs\n",
        "reduce_lr = ReduceLROnPlateau(monitor='val_loss', factor=0.1, patience=5)\n",
        "\n",
        "# Define the TensorBoard callback\n",
        "# Log training process to TensorBoard for visualization\n",
        "tensorboard = TensorBoard(log_dir='./logs')\n",
        "\n",
        "# Define the CSVLogger callback\n",
        "# Log training details (loss, accuracy, etc.) to a CSV file\n",
        "csv_logger = CSVLogger('training_log.csv')\n",
        "\n",
        "# Combine all callbacks into a list\n",
        "callbacks_list = [early_stopping, model_checkpoint, reduce_lr, tensorboard, csv_logger]\n",
        "\n",
        "# Train the model with the specified callbacks\n",
        "# - `callbacks=callbacks_list`: Apply the defined callbacks during training\n",
        "history = model.fit(X_train, y_train, epochs=100, batch_size=25, validation_split=0.2, callbacks=callbacks_list)\n",
        "\n",
        "print(f\"Training stopped after {len(history.epoch)} epochs\")"
      ],
      "metadata": {
        "colab": {
          "base_uri": "https://localhost:8080/"
        },
        "id": "gIaLr56L9ebU",
        "outputId": "70d10627-6dad-472b-b7a0-cf17ffa1bd96"
      },
      "execution_count": null,
      "outputs": [
        {
          "output_type": "stream",
          "name": "stdout",
          "text": [
            "Epoch 1/100\n",
            "25/25 [==============================] - 3s 109ms/step - loss: 0.0092 - val_loss: 0.0067 - lr: 0.0010\n",
            "Epoch 2/100\n",
            "25/25 [==============================] - 2s 92ms/step - loss: 0.0117 - val_loss: 0.0094 - lr: 0.0010\n",
            "Epoch 3/100\n",
            "25/25 [==============================] - 2s 61ms/step - loss: 0.0109 - val_loss: 0.0812 - lr: 0.0010\n",
            "Epoch 4/100\n",
            "25/25 [==============================] - 2s 61ms/step - loss: 0.0138 - val_loss: 0.0325 - lr: 0.0010\n",
            "Epoch 5/100\n",
            "25/25 [==============================] - 2s 60ms/step - loss: 0.0136 - val_loss: 9.8846e-04 - lr: 0.0010\n",
            "Epoch 6/100\n",
            "25/25 [==============================] - 2s 63ms/step - loss: 0.0114 - val_loss: 0.0018 - lr: 0.0010\n",
            "Epoch 7/100\n",
            "25/25 [==============================] - 2s 61ms/step - loss: 0.0124 - val_loss: 8.9924e-04 - lr: 0.0010\n",
            "Epoch 8/100\n",
            "25/25 [==============================] - 2s 61ms/step - loss: 0.0108 - val_loss: 0.0012 - lr: 0.0010\n",
            "Epoch 9/100\n",
            "25/25 [==============================] - 2s 90ms/step - loss: 0.0134 - val_loss: 0.0037 - lr: 0.0010\n",
            "Epoch 10/100\n",
            "25/25 [==============================] - 2s 90ms/step - loss: 0.0120 - val_loss: 9.8743e-04 - lr: 0.0010\n",
            "Epoch 11/100\n",
            "25/25 [==============================] - 2s 63ms/step - loss: 0.0105 - val_loss: 0.0019 - lr: 1.0000e-04\n",
            "Epoch 12/100\n",
            "25/25 [==============================] - 2s 61ms/step - loss: 0.0071 - val_loss: 0.0011 - lr: 1.0000e-04\n",
            "Epoch 13/100\n",
            "25/25 [==============================] - 2s 61ms/step - loss: 0.0083 - val_loss: 0.0012 - lr: 1.0000e-04\n",
            "Epoch 14/100\n",
            "25/25 [==============================] - 2s 63ms/step - loss: 0.0097 - val_loss: 8.3033e-04 - lr: 1.0000e-04\n",
            "Epoch 15/100\n",
            "25/25 [==============================] - 1s 59ms/step - loss: 0.0085 - val_loss: 0.0011 - lr: 1.0000e-04\n",
            "Epoch 16/100\n",
            "25/25 [==============================] - 2s 63ms/step - loss: 0.0086 - val_loss: 0.0014 - lr: 1.0000e-04\n",
            "Epoch 17/100\n",
            "25/25 [==============================] - 2s 97ms/step - loss: 0.0082 - val_loss: 9.9874e-04 - lr: 1.0000e-04\n",
            "Epoch 18/100\n",
            "25/25 [==============================] - 2s 84ms/step - loss: 0.0094 - val_loss: 8.0803e-04 - lr: 1.0000e-04\n",
            "Epoch 19/100\n",
            "25/25 [==============================] - 1s 60ms/step - loss: 0.0097 - val_loss: 0.0012 - lr: 1.0000e-04\n",
            "Epoch 20/100\n",
            "25/25 [==============================] - 2s 62ms/step - loss: 0.0105 - val_loss: 0.0011 - lr: 1.0000e-05\n",
            "Epoch 21/100\n",
            "25/25 [==============================] - 2s 61ms/step - loss: 0.0097 - val_loss: 9.7647e-04 - lr: 1.0000e-05\n",
            "Epoch 22/100\n",
            "25/25 [==============================] - 2s 61ms/step - loss: 0.0085 - val_loss: 8.8082e-04 - lr: 1.0000e-05\n",
            "Epoch 23/100\n",
            "25/25 [==============================] - 2s 63ms/step - loss: 0.0128 - val_loss: 9.7920e-04 - lr: 1.0000e-05\n",
            "Epoch 24/100\n",
            "25/25 [==============================] - 2s 61ms/step - loss: 0.0095 - val_loss: 0.0014 - lr: 1.0000e-05\n",
            "Epoch 25/100\n",
            "25/25 [==============================] - 2s 96ms/step - loss: 0.0104 - val_loss: 0.0013 - lr: 1.0000e-06\n",
            "Epoch 26/100\n",
            "25/25 [==============================] - 2s 89ms/step - loss: 0.0072 - val_loss: 0.0012 - lr: 1.0000e-06\n",
            "Epoch 27/100\n",
            "25/25 [==============================] - 2s 62ms/step - loss: 0.0084 - val_loss: 0.0012 - lr: 1.0000e-06\n",
            "Epoch 28/100\n",
            "25/25 [==============================] - 2s 60ms/step - loss: 0.0092 - val_loss: 0.0012 - lr: 1.0000e-06\n",
            "Training stopped after 28 epochs\n"
          ]
        }
      ]
    },
    {
      "cell_type": "markdown",
      "source": [
        "*   ModelCheckpoint saves the best model based on validation loss\n",
        "*   ReduceLROnPlateau adjusts the learning rate to improve training\n",
        "*   TensorBoard provides visualization of the training process\n",
        "*   CSVLogger logs training details for later analysis\n",
        "\n",
        "\n"
      ],
      "metadata": {
        "id": "WIWVYpDF_8uB"
      }
    },
    {
      "cell_type": "markdown",
      "source": [
        "## **Evaluating Model Performance**"
      ],
      "metadata": {
        "id": "d52tC0zhA_63"
      }
    },
    {
      "cell_type": "code",
      "source": [
        "# Ensure X_test and y_test are Numpy arrays\n",
        "X_test = np.array(X_test)\n",
        "y_test = np.array(y_test)\n",
        "\n",
        "# Reshape X_test to match the input shape required by the LSTM model\n",
        "# The input shape should be (number of samples, number of time steps, number of features)\n",
        "X_test = np.reshape(X_test, (X_test.shape[0], X_test.shape[1], 1))\n",
        "\n",
        "# Evaluating the trained model on the test data\n",
        "test_loss = model.evaluate(X_test, y_test)\n",
        "\n",
        "print(\"Test Loss: \", test_loss)"
      ],
      "metadata": {
        "colab": {
          "base_uri": "https://localhost:8080/"
        },
        "id": "u17e4L37AMR1",
        "outputId": "40702034-8f84-45fd-e806-85631fc9422f"
      },
      "execution_count": null,
      "outputs": [
        {
          "output_type": "stream",
          "name": "stdout",
          "text": [
            "6/6 [==============================] - 0s 21ms/step - loss: 0.0053\n",
            "Test Loss:  0.005307814106345177\n"
          ]
        }
      ]
    },
    {
      "cell_type": "code",
      "source": [
        "from sklearn.metrics import mean_absolute_error, mean_squared_error\n",
        "\n",
        "# Making predictions on test data\n",
        "y_pred = model.predict(X_test)\n",
        "\n",
        "# Calculating MAE\n",
        "mae = mean_absolute_error(y_test, y_pred)\n",
        "\n",
        "# Calculating RMSE\n",
        "rmse = mean_squared_error(y_test, y_pred, squared=False)\n",
        "\n",
        "print(\"Mean Absolute Error (MAE): \", mae)\n",
        "print(\"Root Mean Square Error (RMSE): \", rmse)"
      ],
      "metadata": {
        "colab": {
          "base_uri": "https://localhost:8080/"
        },
        "id": "YAF8AiXEBUlo",
        "outputId": "0b3bac99-5c25-4a4c-fb45-6c36b4683fb3"
      },
      "execution_count": null,
      "outputs": [
        {
          "output_type": "stream",
          "name": "stdout",
          "text": [
            "6/6 [==============================] - 1s 18ms/step\n",
            "Mean Absolute Error (MAE):  0.06831383078826345\n",
            "Root Mean Square Error (RMSE):  0.07285474898652058\n"
          ]
        }
      ]
    },
    {
      "cell_type": "markdown",
      "source": [
        "*   MAE and RMSE provide measures of prediction accuracy\n",
        "\n"
      ],
      "metadata": {
        "id": "lqnGItCJBrgP"
      }
    },
    {
      "cell_type": "markdown",
      "source": [
        "## **Making Predictions**"
      ],
      "metadata": {
        "id": "lWl3nI7dMVOh"
      }
    },
    {
      "cell_type": "code",
      "source": [
        "import yfinance as yf\n",
        "import numpy as np\n",
        "from sklearn.preprocessing import MinMaxScaler"
      ],
      "metadata": {
        "id": "sP1pu_jyMuEq"
      },
      "execution_count": null,
      "outputs": []
    },
    {
      "cell_type": "code",
      "source": [
        "# Fetching the latest 3 months of AAPL stock data with daily intervals\n",
        "data = yf.download('AAPL', period='3mo', interval='1d')\n",
        "\n",
        "# Extract the 'Close' prices and convert to a numpy array\n",
        "closing_prices = data['Close'].values\n",
        "\n",
        "# Scale the data to a range between 0 and 1\n",
        "scaler = MinMaxScaler(feature_range=(0, 1))\n",
        "scaled_data = scaler.fit_transform(closing_prices.reshape(-1, 1))\n",
        "\n",
        "# Prepare the input data for prediction by taking the last 60 days\n",
        "# Reshape to have 60 time steps (required by the LSTM model)\n",
        "X_latest = np.array([scaled_data[-60:].reshape(60)])\n",
        "\n",
        "# Reshape the input data to the format (samples, time steps, features)\n",
        "X_latest = np.reshape(X_latest, (X_latest.shape[0], X_latest.shape[1], 1))\n",
        "\n",
        "# Predict the stock price for the next day using the trained model\n",
        "predicted_stock_price = model.predict(X_latest)\n",
        "\n",
        "# Inverse transform the predicted price to get them back to the original scale\n",
        "predicted_stock_price = scaler.inverse_transform(predicted_stock_price)\n",
        "\n",
        "print(\"Predicted Stock Prices for the next 4 days: \", predicted_stock_price)"
      ],
      "metadata": {
        "colab": {
          "base_uri": "https://localhost:8080/"
        },
        "id": "ht12qC24BwO8",
        "outputId": "c2d3bca8-9045-4158-9ab6-5f875ba99529"
      },
      "execution_count": null,
      "outputs": [
        {
          "output_type": "stream",
          "name": "stderr",
          "text": [
            "\r[*********************100%%**********************]  1 of 1 completed"
          ]
        },
        {
          "output_type": "stream",
          "name": "stdout",
          "text": [
            "1/1 [==============================] - 0s 35ms/step\n",
            "Predicted Stock Prices for the next 4 days:  [[226.23709]]\n"
          ]
        },
        {
          "output_type": "stream",
          "name": "stderr",
          "text": [
            "\n"
          ]
        }
      ]
    },
    {
      "cell_type": "markdown",
      "source": [
        "### **Predicting the Next 4 Days Iteratively**"
      ],
      "metadata": {
        "id": "Cl8DcTYlNwsp"
      }
    },
    {
      "cell_type": "code",
      "source": [
        "data = yf.download('AAPL', period='3mo', interval='1d')\n",
        "\n",
        "# Extract the 'Close' prices and reshape to a column vector\n",
        "closing_prices = data['Close'].values.reshape(-1, 1)\n",
        "\n",
        "# Scale the 'Close' prices to a range between 0 and 1\n",
        "scaler = MinMaxScaler(feature_range=(0, 1))\n",
        "scaled_data = scaler.fit_transform(closing_prices)\n",
        "\n",
        "# Initialize an empty list to store the predicted prices\n",
        "predicted_prices = []\n",
        "\n",
        "# Prepare the initial batch (most recent 60 days) for prediction\n",
        "current_batch = scaled_data[-60:].reshape(1, 60, 1)\n",
        "\n",
        "# Iteratively predict the next 4 days\n",
        "for i in range(4):\n",
        "    # Predict the next day's price\n",
        "    next_prediction = model.predict(current_batch)\n",
        "\n",
        "    # Reshape the prediction to match the batch dimension\n",
        "    next_prediction_reshaped = next_prediction.reshape(1, 1, 1)\n",
        "\n",
        "    # Update the batch to include the latest prediction\n",
        "    current_batch = np.append(current_batch[:, 1:, :], next_prediction_reshaped, axis=1)\n",
        "\n",
        "    # Inverse transform the prediction to get the price back to the original scale\n",
        "    predicted_price = scaler.inverse_transform(next_prediction)[0, 0]\n",
        "\n",
        "    # Append the predicted price to the list\n",
        "    predicted_prices.append(predicted_price)\n",
        "\n",
        "print(\"Predicted Stock Prices for the next 4 days: \", predicted_prices)"
      ],
      "metadata": {
        "colab": {
          "base_uri": "https://localhost:8080/"
        },
        "id": "HeQ9xu8sNmrY",
        "outputId": "466f061c-46ce-4528-9268-92e33d76e6c6"
      },
      "execution_count": null,
      "outputs": [
        {
          "output_type": "stream",
          "name": "stderr",
          "text": [
            "\r[*********************100%%**********************]  1 of 1 completed"
          ]
        },
        {
          "output_type": "stream",
          "name": "stdout",
          "text": [
            "1/1 [==============================] - 0s 31ms/step\n"
          ]
        },
        {
          "output_type": "stream",
          "name": "stderr",
          "text": [
            "\n"
          ]
        },
        {
          "output_type": "stream",
          "name": "stdout",
          "text": [
            "1/1 [==============================] - 0s 33ms/step\n",
            "1/1 [==============================] - 0s 36ms/step\n",
            "1/1 [==============================] - 0s 28ms/step\n",
            "Predicted Stock Prices for the next 4 days:  [226.09734, 224.94748, 223.82166, 222.56822]\n"
          ]
        }
      ]
    },
    {
      "cell_type": "markdown",
      "source": [
        "## **Visualizing Predictions**"
      ],
      "metadata": {
        "id": "X_je7FEsPFfL"
      }
    },
    {
      "cell_type": "code",
      "source": [
        "!pip install mplfinance\n",
        "import pandas as pd\n",
        "import mplfinance as mpf\n",
        "import matplotlib.dates as mpl_dates\n",
        "import matplotlib.pyplot as plt"
      ],
      "metadata": {
        "colab": {
          "base_uri": "https://localhost:8080/"
        },
        "id": "j0BOpfJRPF-5",
        "outputId": "25794448-8a6e-4ee9-f0fa-702798da75f9"
      },
      "execution_count": null,
      "outputs": [
        {
          "output_type": "stream",
          "name": "stdout",
          "text": [
            "Collecting mplfinance\n",
            "  Downloading mplfinance-0.12.10b0-py3-none-any.whl (75 kB)\n",
            "\u001b[?25l     \u001b[90m━━━━━━━━━━━━━━━━━━━━━━━━━━━━━━━━━━━━━━━━\u001b[0m \u001b[32m0.0/75.0 kB\u001b[0m \u001b[31m?\u001b[0m eta \u001b[36m-:--:--\u001b[0m\r\u001b[2K     \u001b[90m━━━━━━━━━━━━━━━━━━━━━━━━━━━━━━━━━━━━━━━━\u001b[0m \u001b[32m75.0/75.0 kB\u001b[0m \u001b[31m2.1 MB/s\u001b[0m eta \u001b[36m0:00:00\u001b[0m\n",
            "\u001b[?25hRequirement already satisfied: matplotlib in /usr/local/lib/python3.10/dist-packages (from mplfinance) (3.7.1)\n",
            "Requirement already satisfied: pandas in /usr/local/lib/python3.10/dist-packages (from mplfinance) (2.0.3)\n",
            "Requirement already satisfied: contourpy>=1.0.1 in /usr/local/lib/python3.10/dist-packages (from matplotlib->mplfinance) (1.2.1)\n",
            "Requirement already satisfied: cycler>=0.10 in /usr/local/lib/python3.10/dist-packages (from matplotlib->mplfinance) (0.12.1)\n",
            "Requirement already satisfied: fonttools>=4.22.0 in /usr/local/lib/python3.10/dist-packages (from matplotlib->mplfinance) (4.53.0)\n",
            "Requirement already satisfied: kiwisolver>=1.0.1 in /usr/local/lib/python3.10/dist-packages (from matplotlib->mplfinance) (1.4.5)\n",
            "Requirement already satisfied: numpy>=1.20 in /usr/local/lib/python3.10/dist-packages (from matplotlib->mplfinance) (1.25.2)\n",
            "Requirement already satisfied: packaging>=20.0 in /usr/local/lib/python3.10/dist-packages (from matplotlib->mplfinance) (24.1)\n",
            "Requirement already satisfied: pillow>=6.2.0 in /usr/local/lib/python3.10/dist-packages (from matplotlib->mplfinance) (9.4.0)\n",
            "Requirement already satisfied: pyparsing>=2.3.1 in /usr/local/lib/python3.10/dist-packages (from matplotlib->mplfinance) (3.1.2)\n",
            "Requirement already satisfied: python-dateutil>=2.7 in /usr/local/lib/python3.10/dist-packages (from matplotlib->mplfinance) (2.8.2)\n",
            "Requirement already satisfied: pytz>=2020.1 in /usr/local/lib/python3.10/dist-packages (from pandas->mplfinance) (2023.4)\n",
            "Requirement already satisfied: tzdata>=2022.1 in /usr/local/lib/python3.10/dist-packages (from pandas->mplfinance) (2024.1)\n",
            "Requirement already satisfied: six>=1.5 in /usr/local/lib/python3.10/dist-packages (from python-dateutil>=2.7->matplotlib->mplfinance) (1.16.0)\n",
            "Installing collected packages: mplfinance\n",
            "Successfully installed mplfinance-0.12.10b0\n"
          ]
        }
      ]
    },
    {
      "cell_type": "markdown",
      "source": [
        "### **Preparing Data for Predictions and Plotting Actual and Predicted Stock Prices**"
      ],
      "metadata": {
        "id": "PzGv_ggrPkZc"
      }
    },
    {
      "cell_type": "code",
      "source": [
        "# Create a list of dates for the predictions\n",
        "last_date = data.index[-1]  # Get the last date from the data\n",
        "next_day = last_date + pd.Timedelta(days=1)  # Calculate the next day for prediction\n",
        "prediction_dates = pd.date_range(start=next_day, periods=4)  # Create 4 prediction dates\n",
        "\n",
        "# Create a DataFrame for predicted prices with dates as index and predicted prices\n",
        "predictions_df = pd.DataFrame(index=prediction_dates, data=predicted_prices, columns=['Close'])\n",
        "\n",
        "# Plot the actual data with mplfinance\n",
        "# Use candlestick chart style 'charles' with volume bars\n",
        "mpf.plot(data, type='candle', style='charles', volume=True)\n",
        "\n",
        "# Plot the predicted prices as a dashed line with markers\n",
        "plt.figure(figsize=(10, 6))\n",
        "plt.plot(predictions_df.index, predictions_df['Close'], linestyle='dashed', marker='o', color='red')\n",
        "\n",
        "plt.title(\"AAPL Stock Price with Predicted Next 4 Days\")\n",
        "plt.show()"
      ],
      "metadata": {
        "colab": {
          "base_uri": "https://localhost:8080/",
          "height": 1000
        },
        "id": "oJpVap9vPgVJ",
        "outputId": "f81ed42f-8035-4c85-ddb5-f9cc7237218f"
      },
      "execution_count": null,
      "outputs": [
        {
          "output_type": "display_data",
          "data": {
            "text/plain": [
              "<Figure size 800x575 with 4 Axes>"
            ],
            "image/png": "[encoded data removed]"
          },
          "metadata": {}
        },
        {
          "output_type": "display_data",
          "data": {
            "text/plain": [
              "<Figure size 1000x600 with 1 Axes>"
            ],
            "image/png": "[encoded data removed]"
          },
          "metadata": {}
        }
      ]
    },
    {
      "cell_type": "code",
      "source": [
        "data = yf.download('AAPL', period='3mo', interval='1d')\n",
        "\n",
        "# Select 'Close' prices and scale them to range [0, 1]\n",
        "closing_prices = data['Close'].values.reshape(-1, 1)\n",
        "scaler = MinMaxScaler(feature_range=(0, 1))\n",
        "scaled_data = scaler.fit_transform(closing_prices)\n",
        "\n",
        "# Predict the next 4 days iteratively using the model\n",
        "predicted_prices = []\n",
        "current_batch = scaled_data[-60:].reshape(1, 60, 1)  # Most recent 60 days for prediction\n",
        "\n",
        "for i in range(4):  # Predicting 4 days\n",
        "    next_prediction = model.predict(current_batch)\n",
        "    next_prediction_reshaped = next_prediction.reshape(1, 1, 1)\n",
        "    current_batch = np.append(current_batch[:, 1:, :], next_prediction_reshaped, axis=1)\n",
        "    predicted_prices.append(scaler.inverse_transform(next_prediction)[0, 0])\n",
        "\n",
        "# Create a list of dates for the predictions\n",
        "last_date = data.index[-1]\n",
        "next_day = last_date + pd.Timedelta(days=1)\n",
        "prediction_dates = pd.date_range(start=next_day, periods=4)\n",
        "\n",
        "# Create a DataFrame for predicted prices with dates as index and predicted prices\n",
        "predicted_data = pd.DataFrame(index=prediction_dates, data=predicted_prices, columns=['Close'])\n",
        "\n",
        "# Combine both actual and predicted data for plotting\n",
        "combined_data = pd.concat([data['Close'][-60:], predicted_data['Close']])\n",
        "\n",
        "# Plotting the actual data and predictions\n",
        "plt.figure(figsize=(10, 6))\n",
        "\n",
        "# Plot actual data for the last 60 days\n",
        "plt.plot(data.index[-60:], data['Close'][-60:], linestyle='-', marker='o', color='blue', label='Actual Data')\n",
        "\n",
        "# Plot predicted data for the next 4 days\n",
        "plt.plot(prediction_dates, predicted_prices, linestyle='-', marker='o', color='red', label='Predicted Data')\n",
        "\n",
        "plt.title(\"AAPL Stock Price: Last 60 Days and Next 4 Days Predicted\")\n",
        "plt.xlabel('Date')\n",
        "plt.ylabel('Price')\n",
        "plt.legend()\n",
        "plt.grid(True)\n",
        "plt.show()"
      ],
      "metadata": {
        "colab": {
          "base_uri": "https://localhost:8080/",
          "height": 655
        },
        "id": "fsG6LvSRQrCS",
        "outputId": "b1ef9b64-2b7c-4b6d-b263-a9257c8878a0"
      },
      "execution_count": null,
      "outputs": [
        {
          "output_type": "stream",
          "name": "stderr",
          "text": [
            "\r[*********************100%%**********************]  1 of 1 completed\n"
          ]
        },
        {
          "output_type": "stream",
          "name": "stdout",
          "text": [
            "1/1 [==============================] - 0s 46ms/step\n",
            "1/1 [==============================] - 0s 54ms/step\n",
            "1/1 [==============================] - 0s 30ms/step\n",
            "1/1 [==============================] - 0s 40ms/step\n"
          ]
        },
        {
          "output_type": "display_data",
          "data": {
            "text/plain": [
              "<Figure size 1000x600 with 1 Axes>"
            ],
            "image/png": "[encoded data removed]"
          },
          "metadata": {}
        }
      ]
    },
    {
      "cell_type": "code",
      "source": [
        "from datetime import datetime, timedelta\n",
        "\n",
        "def predict_stock_price(input_date):\n",
        "# Predicts the stock price of AAPL for the next 4 days starting from the given input date.\n",
        "\n",
        "    # Check if the input date is a valid date format\n",
        "    try:\n",
        "        input_date = pd.to_datetime(input_date)\n",
        "    except ValueError:\n",
        "        print(\"Invalid Date Format. Please enter date in YYYY-MM-DD format.\")\n",
        "        return\n",
        "\n",
        "    # Fetch data from yfinance\n",
        "    end_date = input_date\n",
        "    start_date = input_date - timedelta(days=90)  # Fetch more days to ensure we have 60 trading days\n",
        "    data = yf.download('AAPL', start=start_date, end=end_date)\n",
        "\n",
        "    # Check if enough historical data is available\n",
        "    if len(data) < 60:\n",
        "        print(\"Not enough historical data to make a prediction. Try an earlier date.\")\n",
        "        return\n",
        "\n",
        "    # Prepare the data\n",
        "    closing_prices = data['Close'].values[-60:]  # Last 60 days\n",
        "    scaler = MinMaxScaler(feature_range=(0, 1))\n",
        "    scaled_data = scaler.fit_transform(closing_prices.reshape(-1, 1))\n",
        "\n",
        "    # Make predictions\n",
        "    predicted_prices = []\n",
        "    current_batch = scaled_data.reshape(1, 60, 1)\n",
        "\n",
        "    for i in range(4):  # Predicting 4 days\n",
        "        next_prediction = model.predict(current_batch)\n",
        "        next_prediction_reshaped = next_prediction.reshape(1, 1, 1)\n",
        "        current_batch = np.append(current_batch[:, 1:, :], next_prediction_reshaped, axis=1)\n",
        "        predicted_prices.append(scaler.inverse_transform(next_prediction)[0, 0])\n",
        "\n",
        "    # Output the predictions\n",
        "    for i, price in enumerate(predicted_prices, 1):\n",
        "        print(f\"Day {i} prediction: {price}\")\n",
        "\n",
        "# Example use\n",
        "user_input = input(\"Enter a date (YYYY-MM-DD) to predict AAPL stock for the next 4 days: \")\n",
        "predict_stock_price(user_input)"
      ],
      "metadata": {
        "colab": {
          "base_uri": "https://localhost:8080/"
        },
        "id": "hIxA12gLSe07",
        "outputId": "9422cea0-f0dd-4ca9-f53b-35d2f1c483dc"
      },
      "execution_count": null,
      "outputs": [
        {
          "name": "stdout",
          "output_type": "stream",
          "text": [
            "Enter a date (YYYY-MM-DD) to predict AAPL stock for the next 4 days: 2024-04-06\n"
          ]
        },
        {
          "output_type": "stream",
          "name": "stderr",
          "text": [
            "\r[*********************100%%**********************]  1 of 1 completed"
          ]
        },
        {
          "output_type": "stream",
          "name": "stdout",
          "text": [
            "1/1 [==============================] - 0s 27ms/step\n",
            "1/1 [==============================] - 0s 26ms/step\n"
          ]
        },
        {
          "output_type": "stream",
          "name": "stderr",
          "text": [
            "\n"
          ]
        },
        {
          "output_type": "stream",
          "name": "stdout",
          "text": [
            "1/1 [==============================] - 0s 35ms/step\n",
            "1/1 [==============================] - 0s 26ms/step\n",
            "Day 1 prediction: 171.88963317871094\n",
            "Day 2 prediction: 172.3191680908203\n",
            "Day 3 prediction: 173.24720764160156\n",
            "Day 4 prediction: 174.44613647460938\n"
          ]
        }
      ]
    }
  ]
}